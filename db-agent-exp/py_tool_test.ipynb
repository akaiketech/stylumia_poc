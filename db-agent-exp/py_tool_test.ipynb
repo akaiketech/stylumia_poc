{
 "cells": [
  {
   "cell_type": "code",
   "execution_count": 1,
   "metadata": {},
   "outputs": [],
   "source": [
    "from tools.python_tool import PythonTool, sanitize_python_code, is_code_insecure\n",
    "from pathlib import Path\n",
    "import pandas as pd"
   ]
  },
  {
   "cell_type": "code",
   "execution_count": 2,
   "metadata": {},
   "outputs": [],
   "source": [
    "code = r\"\"\"\n",
    "# Get unique values and their counts in the 'Type' column\n",
    "type_counts = df0['Type'].value_counts()\n",
    "print(type_counts)\n",
    "\n",
    "# Check if there's a 'Sales' or 'Revenue' column\n",
    "print(\"\\nColumns in the dataframe:\")\n",
    "df0.columns\n",
    "\"\"\""
   ]
  },
  {
   "cell_type": "code",
   "execution_count": 3,
   "metadata": {},
   "outputs": [],
   "source": [
    "tool = PythonTool(Path(\"./temp_folder\"))\n",
    "\n",
    "df = pd.read_parquet(\"data/processed_data/outdoor_lighting_products.parquet\")\n",
    "tool.locals[\"df0\"] = df"
   ]
  },
  {
   "cell_type": "code",
   "execution_count": 4,
   "metadata": {},
   "outputs": [
    {
     "name": "stderr",
     "output_type": "stream",
     "text": [
      "\u001b[32m2024-09-10 18:24:40.706\u001b[0m | \u001b[1mINFO    \u001b[0m | \u001b[36mtools.python_tool\u001b[0m:\u001b[36mexecute_code\u001b[0m:\u001b[36m273\u001b[0m - \u001b[1mExecuting df0.columns\u001b[0m\n"
     ]
    }
   ],
   "source": [
    "result = tool(code)"
   ]
  },
  {
   "cell_type": "code",
   "execution_count": 5,
   "metadata": {},
   "outputs": [
    {
     "data": {
      "text/plain": [
       "{'observation': \"Type\\nPath Lights               469\\nString Lights             275\\nSpot & Flood Lights       227\\nDeck & Post Cap Lights     80\\nParts and Accessories      47\\nLanterns                   46\\nAccent light               30\\nOutdoor light              16\\nWell Light                 15\\nOutdoor wall light          5\\nFlag pole light             2\\nName: count, dtype: int64\\n\\nColumns in the dataframe:\\nIndex(['Retailer', 'Product Name', 'Product URL', 'Brand', 'Rank',\\n       'Top Seller', 'Power Source', 'Type', 'Color Changing',\\n       'brightness (lumens)', 'brightness (lumens) Bucket'],\\n      dtype='object')\",\n",
       " 'metadata': {'executed_code': '\\n# Get unique values and their counts in the \\'Type\\' column\\ntype_counts = df0[\\'Type\\'].value_counts()\\nprint(type_counts)\\n\\n# Check if there\\'s a \\'Sales\\' or \\'Revenue\\' column\\nprint(\"\\\\nColumns in the dataframe:\")\\ndf0.columns\\n',\n",
       "  'ret': Index(['Retailer', 'Product Name', 'Product URL', 'Brand', 'Rank',\n",
       "         'Top Seller', 'Power Source', 'Type', 'Color Changing',\n",
       "         'brightness (lumens)', 'brightness (lumens) Bucket'],\n",
       "        dtype='object')}}"
      ]
     },
     "execution_count": 5,
     "metadata": {},
     "output_type": "execute_result"
    }
   ],
   "source": [
    "result"
   ]
  },
  {
   "cell_type": "code",
   "execution_count": 6,
   "metadata": {},
   "outputs": [
    {
     "name": "stdout",
     "output_type": "stream",
     "text": [
      "Type\n",
      "Path Lights               469\n",
      "String Lights             275\n",
      "Spot & Flood Lights       227\n",
      "Deck & Post Cap Lights     80\n",
      "Parts and Accessories      47\n",
      "Lanterns                   46\n",
      "Accent light               30\n",
      "Outdoor light              16\n",
      "Well Light                 15\n",
      "Outdoor wall light          5\n",
      "Flag pole light             2\n",
      "Name: count, dtype: int64\n",
      "\n",
      "Columns in the dataframe:\n",
      "Index(['Retailer', 'Product Name', 'Product URL', 'Brand', 'Rank',\n",
      "       'Top Seller', 'Power Source', 'Type', 'Color Changing',\n",
      "       'brightness (lumens)', 'brightness (lumens) Bucket'],\n",
      "      dtype='object')\n"
     ]
    }
   ],
   "source": [
    "print(result[\"observation\"])"
   ]
  },
  {
   "cell_type": "code",
   "execution_count": 7,
   "metadata": {},
   "outputs": [
    {
     "data": {
      "text/plain": [
       "Index(['Retailer', 'Product Name', 'Product URL', 'Brand', 'Rank',\n",
       "       'Top Seller', 'Power Source', 'Type', 'Color Changing',\n",
       "       'brightness (lumens)', 'brightness (lumens) Bucket'],\n",
       "      dtype='object')"
      ]
     },
     "execution_count": 7,
     "metadata": {},
     "output_type": "execute_result"
    }
   ],
   "source": [
    "result[\"metadata\"][\"ret\"]"
   ]
  },
  {
   "cell_type": "code",
   "execution_count": null,
   "metadata": {},
   "outputs": [],
   "source": []
  }
 ],
 "metadata": {
  "kernelspec": {
   "display_name": "llm-agent",
   "language": "python",
   "name": "python3"
  },
  "language_info": {
   "codemirror_mode": {
    "name": "ipython",
    "version": 3
   },
   "file_extension": ".py",
   "mimetype": "text/x-python",
   "name": "python",
   "nbconvert_exporter": "python",
   "pygments_lexer": "ipython3",
   "version": "3.11.9"
  }
 },
 "nbformat": 4,
 "nbformat_minor": 2
}
